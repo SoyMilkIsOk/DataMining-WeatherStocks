{
 "cells": [
  {
   "cell_type": "code",
   "execution_count": 5,
   "id": "31e2ddf2-12dd-4f22-b9b3-839b05a57508",
   "metadata": {},
   "outputs": [],
   "source": [
    "import numpy as np\n",
    "import matplotlib.pyplot as plt\n",
    "import pandas as pd\n",
    "from data_import import ag_merged\n",
    "from data_import import df_merged\n",
    "from data_import import etfs_merged\n",
    "import seaborn as sns"
   ]
  },
  {
   "cell_type": "code",
   "execution_count": 4,
   "id": "81b00fc0-85c9-48f4-b8a7-b1901f7d42d2",
   "metadata": {},
   "outputs": [
    {
     "data": {
      "text/plain": [
       "Text(0.5, 1.0, 'Boxplot of Agriculture ETF % Change ')"
      ]
     },
     "execution_count": 4,
     "metadata": {},
     "output_type": "execute_result"
    },
    {
     "data": {
      "image/png": "[encoded data removed]",
      "text/plain": [
       "<Figure size 432x288 with 1 Axes>"
      ]
     },
     "metadata": {
      "needs_background": "light"
     },
     "output_type": "display_data"
    }
   ],
   "source": [
    "sns.boxplot(data=ag_merged,x=ag_merged[\"% Change\"])\n",
    "plt.title(\"Boxplot of Agriculture ETF % Change \")"
   ]
  },
  {
   "cell_type": "code",
   "execution_count": null,
   "id": "a42e38e2-922a-4e48-9985-6519e9b87175",
   "metadata": {},
   "outputs": [],
   "source": []
  }
 ],
 "metadata": {
  "kernelspec": {
   "display_name": "Python 3 (ipykernel)",
   "language": "python",
   "name": "python3"
  },
  "language_info": {
   "codemirror_mode": {
    "name": "ipython",
    "version": 3
   },
   "file_extension": ".py",
   "mimetype": "text/x-python",
   "name": "python",
   "nbconvert_exporter": "python",
   "pygments_lexer": "ipython3",
   "version": "3.9.6"
  }
 },
 "nbformat": 4,
 "nbformat_minor": 5
}
