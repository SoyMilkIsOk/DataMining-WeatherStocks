{
 "cells": [
  {
   "cell_type": "code",
   "execution_count": 1,
   "id": "62aacdbc-d1e2-49b1-9cf1-69137cd4becf",
   "metadata": {},
   "outputs": [
    {
     "name": "stdout",
     "output_type": "stream",
     "text": [
      "1999-03-10 00:00:00\n",
      "           Date      Volume  % Change % change binned  TMAX  TMIN  TOTALPRCP  \\\n",
      "0    1999-03-10  11700414.0 -0.124666        negative    42    27       0.00   \n",
      "1    1999-03-11  21670048.0 -0.247858        negative    40    26       0.00   \n",
      "2    1999-03-12  19553768.0 -2.080007        negative    39    24       0.00   \n",
      "3    1999-03-15  14245348.0  2.108601        positive    41    32       4.37   \n",
      "4    1999-03-16  10971066.0  0.419432        positive    50    32       0.00   \n",
      "...         ...         ...       ...             ...   ...   ...        ...   \n",
      "4696 2017-11-06   9714451.5  0.195827        positive    66    46       0.01   \n",
      "4697 2017-11-07  10337675.5 -0.068213        negative    49    40       0.70   \n",
      "4698 2017-11-08   9011700.7  0.188292        positive    49    39       0.00   \n",
      "4699 2017-11-09  16871876.3  0.149131        positive    55    39       0.00   \n",
      "4700 2017-11-10   9777757.4  0.053403        positive    51    25       0.01   \n",
      "\n",
      "     binned  \n",
      "0       Low  \n",
      "1       Low  \n",
      "2       Low  \n",
      "3      High  \n",
      "4       Low  \n",
      "...     ...  \n",
      "4696    Low  \n",
      "4697    Low  \n",
      "4698    Low  \n",
      "4699    Low  \n",
      "4700    Low  \n",
      "\n",
      "[4701 rows x 8 columns]\n"
     ]
    }
   ],
   "source": [
    "import numpy as np\n",
    "import pandas as pd\n",
    "import matplotlib.pyplot as plt\n",
    "from data_import import df_merged\n",
    "plt.style.use(\"dark_background\")\n",
    "def leastsquares(A, b):\n",
    "    import numpy.linalg as npl\n",
    "    return npl.lstsq(A, b, rcond=None)[0]"
   ]
  },
  {
   "cell_type": "code",
   "execution_count": 2,
   "id": "9bff4050-54ad-4152-bed2-41910296ec28",
   "metadata": {},
   "outputs": [],
   "source": [
    "negative = df_merged.loc[df_merged['% change binned'] == 'negative'].loc[:, [\"TMAX\", \"TMIN\", \"TOTALPRCP\"]].values.tolist()\n",
    "positive = df_merged.loc[df_merged['% change binned'] == 'positive'].loc[:, [\"TMAX\", \"TMIN\", \"TOTALPRCP\"]].values.tolist()\n",
    "\n",
    "spy_data = {\n",
    "    'positive' : positive, 'negative' : negative }\n",
    "\n",
    "positive_total = len(positive)\n",
    "negative_total = len(negative)\n",
    "total_len = positive_total + negative_total\n"
   ]
  },
  {
   "cell_type": "code",
   "execution_count": 3,
   "id": "0d7c76ca-ae02-42c3-87a0-79c4a481e97c",
   "metadata": {},
   "outputs": [],
   "source": [
    "A = np.zeros((total_len, 3))\n",
    "A[0:positive_total, :] = spy_data['positive']\n",
    "A[positive_total:total_len, :] = spy_data['negative']\n",
    "A = np.hstack([np.ones((total_len, 1)), A])"
   ]
  },
  {
   "cell_type": "code",
   "execution_count": 4,
   "id": "3517f7de-b17e-44a1-b530-c70d8cb70835",
   "metadata": {},
   "outputs": [],
   "source": [
    "y = np.zeros((total_len,1))\n",
    "y[0:positive_total] = 1 \n",
    "y[positive_total:] = -1"
   ]
  },
  {
   "cell_type": "code",
   "execution_count": 5,
   "id": "3a6af8a4-fc28-46fc-b020-aee842fc301b",
   "metadata": {},
   "outputs": [
    {
     "data": {
      "text/plain": [
       "array([[0.14423992],\n",
       "       [0.1438521 ],\n",
       "       [0.10438108],\n",
       "       ...,\n",
       "       [0.07744082],\n",
       "       [0.08340969],\n",
       "       [0.09275001]])"
      ]
     },
     "execution_count": 5,
     "metadata": {},
     "output_type": "execute_result"
    }
   ],
   "source": [
    "x = leastsquares(A,y)\n",
    "yhat = A @ x\n",
    "yhat"
   ]
  },
  {
   "cell_type": "code",
   "execution_count": 6,
   "id": "f8f004c4-23ec-4a11-a7e2-6482853e40b6",
   "metadata": {},
   "outputs": [
    {
     "data": {
      "text/plain": [
       "[<matplotlib.lines.Line2D at 0x7f858aeb7400>]"
      ]
     },
     "execution_count": 6,
     "metadata": {},
     "output_type": "execute_result"
    },
    {
     "data": {
      "image/png": "[encoded data removed]",
      "text/plain": [
       "<Figure size 432x288 with 1 Axes>"
      ]
     },
     "metadata": {},
     "output_type": "display_data"
    }
   ],
   "source": [
    "plt.plot(range(total_len), yhat)"
   ]
  },
  {
   "cell_type": "code",
   "execution_count": 7,
   "id": "dfc06488-191a-4301-8202-07dbb1a9e9f1",
   "metadata": {},
   "outputs": [],
   "source": [
    "y_n = np.zeros((total_len, 1))\n",
    "y_n[0:positive_total] = -1\n",
    "y_n[positive_total: total_len] = 1\n",
    "x_n = leastsquares(A, y_n)\n",
    "yhat_xn = A @ x_n"
   ]
  },
  {
   "cell_type": "code",
   "execution_count": 8,
   "id": "e9db9645-529b-4d38-a5d6-7237f278a64f",
   "metadata": {},
   "outputs": [
    {
     "data": {
      "text/plain": [
       "[<matplotlib.lines.Line2D at 0x7f858adaf2b0>,\n",
       " <matplotlib.lines.Line2D at 0x7f858adaf2e0>]"
      ]
     },
     "execution_count": 8,
     "metadata": {},
     "output_type": "execute_result"
    },
    {
     "data": {
      "image/png": "[encoded data removed]",
      "text/plain": [
       "<Figure size 432x288 with 1 Axes>"
      ]
     },
     "metadata": {},
     "output_type": "display_data"
    }
   ],
   "source": [
    "plt.plot(range(total_len),yhat, yhat_xn)"
   ]
  },
  {
   "cell_type": "code",
   "execution_count": 9,
   "id": "27a29e96-4db0-4b71-b99c-a88a9bf18dcf",
   "metadata": {},
   "outputs": [],
   "source": [
    "def fhat(row):\n",
    "    y_positive = row @ x\n",
    "    y_negative = row @ x_n\n",
    "    outs = [y_positive, y_negative]\n",
    "    if max(outs) == y_positive:\n",
    "        return 'positive'\n",
    "    else:\n",
    "        return 'negative'\n",
    "\n",
    "correct = ['positive'] * positive_total +  ['negative'] * negative_total\n",
    "\n",
    "yhat_final = np.array([fhat(A[i, :]) for i in range(total_len)])\n",
    "error_rate_final = sum(yhat_final != np.array(correct))/total_len\n"
   ]
  },
  {
   "cell_type": "code",
   "execution_count": 10,
   "id": "25684d9d-c3e2-4d70-8b5d-593c714b7773",
   "metadata": {},
   "outputs": [
    {
     "name": "stdout",
     "output_type": "stream",
     "text": [
      "0.4626679162761637\n"
     ]
    }
   ],
   "source": [
    "print(error_rate_final)"
   ]
  },
  {
   "cell_type": "code",
   "execution_count": 11,
   "id": "fbc87a18-5783-4afa-b4dd-d784d3ff3fc8",
   "metadata": {},
   "outputs": [],
   "source": [
    "def sign(yhat):\n",
    "    return 2.0 * (yhat > 0) - 1.0\n",
    "\n",
    "\"\"\"Function definitions for Performance metrics, from Table 14.1 and pg.287 in Introduction to Applied Linear Algebra\"\"\"\n",
    "\n",
    "def error_rate(y,yhat,total_len):\n",
    "    sum_fpfn = 0\n",
    "    for i in range(total_len):\n",
    "        if y[i] !=sign(yhat[i]):\n",
    "            sum_fpfn += 1\n",
    "    return sum_fpfn/total_len\n",
    "\n",
    "def true_positive(y,yhat,total_len):\n",
    "    sum_tp = 0\n",
    "    sum_p = 0\n",
    "    for i in range(total_len):\n",
    "        if y[i] == 1:\n",
    "            sum_p += 1\n",
    "            if sign(yhat[i]) == 1:\n",
    "                sum_tp += 1\n",
    "    return sum_tp/sum_p\n",
    "        \n",
    "def false_positive(y,yhat,total_len):\n",
    "    sum_fp = 0\n",
    "    sum_n = 0\n",
    "    for i in range(total_len):\n",
    "        if y[i] != 1:\n",
    "            sum_n += 1\n",
    "            if sign(yhat[i]) == 1:\n",
    "                sum_fp += 1\n",
    "    return sum_fp/sum_n\n",
    "\n",
    "def true_negative(y,yhat,total_len):\n",
    "    sum_tn = 0\n",
    "    sum_n = 0\n",
    "    for i in range(total_len):\n",
    "        if y[i] != 1:\n",
    "            sum_n += 1\n",
    "            if sign(yhat[i]) !=1:\n",
    "                sum_tn += 1\n",
    "    return sum_tn/sum_n\n",
    "         \n",
    "def precision(y,yhat,total_len):\n",
    "    sum_tp = 0\n",
    "    sum_fp = 0\n",
    "    for i in range(total_len):\n",
    "        if y[i] == 1 and sign(yhat[i]) == 1:\n",
    "            sum_tp += 1\n",
    "        if y[i] != 1 and sign(yhat[i]) == 1:\n",
    "            sum_fp += 1\n",
    "    return sum_tp/(sum_tp + sum_fp)"
   ]
  },
  {
   "cell_type": "code",
   "execution_count": 12,
   "id": "eaa23ba9-0087-4fac-a265-ea111f65b627",
   "metadata": {},
   "outputs": [
    {
     "name": "stdout",
     "output_type": "stream",
     "text": [
      "0.4626679162761637 0.4626679162761637\n",
      "1.0 0.0\n",
      "1.0 0.0\n",
      "0.0 1.0\n"
     ]
    },
    {
     "ename": "ZeroDivisionError",
     "evalue": "division by zero",
     "output_type": "error",
     "traceback": [
      "\u001b[0;31m---------------------------------------------------------------------------\u001b[0m",
      "\u001b[0;31mZeroDivisionError\u001b[0m                         Traceback (most recent call last)",
      "\u001b[0;32m/tmp/ipykernel_371/375097670.py\u001b[0m in \u001b[0;36m<module>\u001b[0;34m\u001b[0m\n\u001b[1;32m      3\u001b[0m \u001b[0mprint\u001b[0m\u001b[0;34m(\u001b[0m\u001b[0mfalse_positive\u001b[0m\u001b[0;34m(\u001b[0m\u001b[0my\u001b[0m\u001b[0;34m,\u001b[0m\u001b[0myhat\u001b[0m\u001b[0;34m,\u001b[0m\u001b[0mtotal_len\u001b[0m\u001b[0;34m)\u001b[0m\u001b[0;34m,\u001b[0m \u001b[0mfalse_positive\u001b[0m\u001b[0;34m(\u001b[0m\u001b[0my_n\u001b[0m\u001b[0;34m,\u001b[0m\u001b[0myhat_xn\u001b[0m\u001b[0;34m,\u001b[0m\u001b[0mtotal_len\u001b[0m\u001b[0;34m)\u001b[0m\u001b[0;34m)\u001b[0m\u001b[0;34m\u001b[0m\u001b[0;34m\u001b[0m\u001b[0m\n\u001b[1;32m      4\u001b[0m \u001b[0mprint\u001b[0m\u001b[0;34m(\u001b[0m\u001b[0mtrue_negative\u001b[0m\u001b[0;34m(\u001b[0m\u001b[0my\u001b[0m\u001b[0;34m,\u001b[0m\u001b[0myhat\u001b[0m\u001b[0;34m,\u001b[0m\u001b[0mtotal_len\u001b[0m\u001b[0;34m)\u001b[0m\u001b[0;34m,\u001b[0m \u001b[0mtrue_negative\u001b[0m\u001b[0;34m(\u001b[0m\u001b[0my_n\u001b[0m\u001b[0;34m,\u001b[0m\u001b[0myhat_xn\u001b[0m\u001b[0;34m,\u001b[0m\u001b[0mtotal_len\u001b[0m\u001b[0;34m)\u001b[0m\u001b[0;34m)\u001b[0m\u001b[0;34m\u001b[0m\u001b[0;34m\u001b[0m\u001b[0m\n\u001b[0;32m----> 5\u001b[0;31m \u001b[0mprint\u001b[0m\u001b[0;34m(\u001b[0m\u001b[0mprecision\u001b[0m\u001b[0;34m(\u001b[0m\u001b[0my\u001b[0m\u001b[0;34m,\u001b[0m\u001b[0myhat\u001b[0m\u001b[0;34m,\u001b[0m\u001b[0mtotal_len\u001b[0m\u001b[0;34m)\u001b[0m\u001b[0;34m,\u001b[0m \u001b[0mprecision\u001b[0m\u001b[0;34m(\u001b[0m\u001b[0my_n\u001b[0m\u001b[0;34m,\u001b[0m\u001b[0myhat_xn\u001b[0m\u001b[0;34m,\u001b[0m\u001b[0mtotal_len\u001b[0m\u001b[0;34m)\u001b[0m\u001b[0;34m)\u001b[0m\u001b[0;34m\u001b[0m\u001b[0;34m\u001b[0m\u001b[0m\n\u001b[0m",
      "\u001b[0;32m/tmp/ipykernel_371/434183085.py\u001b[0m in \u001b[0;36mprecision\u001b[0;34m(y, yhat, total_len)\u001b[0m\n\u001b[1;32m     49\u001b[0m         \u001b[0;32mif\u001b[0m \u001b[0my\u001b[0m\u001b[0;34m[\u001b[0m\u001b[0mi\u001b[0m\u001b[0;34m]\u001b[0m \u001b[0;34m!=\u001b[0m \u001b[0;36m1\u001b[0m \u001b[0;32mand\u001b[0m \u001b[0msign\u001b[0m\u001b[0;34m(\u001b[0m\u001b[0myhat\u001b[0m\u001b[0;34m[\u001b[0m\u001b[0mi\u001b[0m\u001b[0;34m]\u001b[0m\u001b[0;34m)\u001b[0m \u001b[0;34m==\u001b[0m \u001b[0;36m1\u001b[0m\u001b[0;34m:\u001b[0m\u001b[0;34m\u001b[0m\u001b[0;34m\u001b[0m\u001b[0m\n\u001b[1;32m     50\u001b[0m             \u001b[0msum_fp\u001b[0m \u001b[0;34m+=\u001b[0m \u001b[0;36m1\u001b[0m\u001b[0;34m\u001b[0m\u001b[0;34m\u001b[0m\u001b[0m\n\u001b[0;32m---> 51\u001b[0;31m     \u001b[0;32mreturn\u001b[0m \u001b[0msum_tp\u001b[0m\u001b[0;34m/\u001b[0m\u001b[0;34m(\u001b[0m\u001b[0msum_tp\u001b[0m \u001b[0;34m+\u001b[0m \u001b[0msum_fp\u001b[0m\u001b[0;34m)\u001b[0m\u001b[0;34m\u001b[0m\u001b[0;34m\u001b[0m\u001b[0m\n\u001b[0m",
      "\u001b[0;31mZeroDivisionError\u001b[0m: division by zero"
     ]
    }
   ],
   "source": [
    "print(error_rate(y,yhat,total_len), error_rate(y_n,yhat_xn,total_len))\n",
    "print(true_positive(y,yhat,total_len), true_positive(y_n,yhat_xn,total_len))\n",
    "print(false_positive(y,yhat,total_len), false_positive(y_n,yhat_xn,total_len))\n",
    "print(true_negative(y,yhat,total_len), true_negative(y_n,yhat_xn,total_len))\n",
    "print(precision(y,yhat,total_len), precision(y_n,yhat_xn,total_len))"
   ]
  },
  {
   "cell_type": "code",
   "execution_count": 13,
   "id": "48cf2982-407c-4a47-b2c7-79670f3baa40",
   "metadata": {},
   "outputs": [
    {
     "data": {
      "text/plain": [
       "array([[1.],\n",
       "       [1.],\n",
       "       [1.],\n",
       "       ...,\n",
       "       [1.],\n",
       "       [1.],\n",
       "       [1.]])"
      ]
     },
     "execution_count": 13,
     "metadata": {},
     "output_type": "execute_result"
    }
   ],
   "source": [
    "sign(yhat)"
   ]
  },
  {
   "cell_type": "code",
   "execution_count": 14,
   "id": "94c5ec12-1871-4592-ad2e-dc7fd27a37cd",
   "metadata": {},
   "outputs": [
    {
     "data": {
      "text/plain": [
       "True"
      ]
     },
     "execution_count": 14,
     "metadata": {},
     "output_type": "execute_result"
    }
   ],
   "source": [
    "'negative' in correct"
   ]
  },
  {
   "cell_type": "code",
   "execution_count": 15,
   "id": "145a11b3-5b21-4e79-b8f4-79dffb9a101b",
   "metadata": {},
   "outputs": [
    {
     "data": {
      "text/plain": [
       "True"
      ]
     },
     "execution_count": 15,
     "metadata": {},
     "output_type": "execute_result"
    }
   ],
   "source": [
    "'positive' in correct"
   ]
  },
  {
   "cell_type": "code",
   "execution_count": null,
   "id": "54b62bb3-4e10-4734-9bdd-18575aa030fc",
   "metadata": {},
   "outputs": [
    {
     "ename": "ZeroDivisionError",
     "evalue": "division by zero",
     "output_type": "error",
     "traceback": [
      "\u001b[0;31m---------------------------------------------------------------------------\u001b[0m",
      "\u001b[0;31mZeroDivisionError\u001b[0m                         Traceback (most recent call last)",
      "\u001b[0;32m/tmp/ipykernel_371/3324488916.py\u001b[0m in \u001b[0;36m<module>\u001b[0;34m\u001b[0m\n\u001b[1;32m      3\u001b[0m         \u001b[0;34m[\u001b[0m\u001b[0;34m'True Positive'\u001b[0m\u001b[0;34m,\u001b[0m \u001b[0mtrue_positive\u001b[0m\u001b[0;34m(\u001b[0m\u001b[0my\u001b[0m\u001b[0;34m,\u001b[0m\u001b[0myhat\u001b[0m\u001b[0;34m,\u001b[0m\u001b[0mtotal_len\u001b[0m\u001b[0;34m)\u001b[0m\u001b[0;34m,\u001b[0m \u001b[0mtrue_positive\u001b[0m\u001b[0;34m(\u001b[0m\u001b[0my_n\u001b[0m\u001b[0;34m,\u001b[0m\u001b[0myhat_xn\u001b[0m\u001b[0;34m,\u001b[0m\u001b[0mtotal_len\u001b[0m\u001b[0;34m)\u001b[0m\u001b[0;34m]\u001b[0m\u001b[0;34m,\u001b[0m\u001b[0;34m\u001b[0m\u001b[0;34m\u001b[0m\u001b[0m\n\u001b[1;32m      4\u001b[0m         \u001b[0;34m[\u001b[0m\u001b[0;34m'False Positive'\u001b[0m\u001b[0;34m,\u001b[0m \u001b[0mfalse_positive\u001b[0m\u001b[0;34m(\u001b[0m\u001b[0my\u001b[0m\u001b[0;34m,\u001b[0m\u001b[0myhat\u001b[0m\u001b[0;34m,\u001b[0m\u001b[0mtotal_len\u001b[0m\u001b[0;34m)\u001b[0m\u001b[0;34m,\u001b[0m \u001b[0mfalse_positive\u001b[0m\u001b[0;34m(\u001b[0m\u001b[0my_n\u001b[0m\u001b[0;34m,\u001b[0m\u001b[0myhat_xn\u001b[0m\u001b[0;34m,\u001b[0m\u001b[0mtotal_len\u001b[0m\u001b[0;34m)\u001b[0m\u001b[0;34m]\u001b[0m\u001b[0;34m,\u001b[0m\u001b[0;34m\u001b[0m\u001b[0;34m\u001b[0m\u001b[0m\n\u001b[0;32m----> 5\u001b[0;31m         ['True Negative', true_negative(y,yhat,total_len), true_negative(y_n,yhat_xn,total_len)],['Precision', precision(y,yhat,total_len), precision(y_n,yhat_xn,total_len)],['Final Error Rate', error_rate_final]]\n\u001b[0m\u001b[1;32m      6\u001b[0m \u001b[0mprint\u001b[0m \u001b[0;34m(\u001b[0m\u001b[0mtabulate\u001b[0m\u001b[0;34m(\u001b[0m\u001b[0mdata\u001b[0m\u001b[0;34m,\u001b[0m \u001b[0mheaders\u001b[0m\u001b[0;34m=\u001b[0m\u001b[0;34m[\u001b[0m\u001b[0;34m\"Calculated from Positives\"\u001b[0m\u001b[0;34m,\u001b[0m \u001b[0;34m\"Calculated From Negatives\"\u001b[0m\u001b[0;34m,\u001b[0m \u001b[0;34m]\u001b[0m\u001b[0;34m)\u001b[0m\u001b[0;34m)\u001b[0m\u001b[0;34m\u001b[0m\u001b[0;34m\u001b[0m\u001b[0m\n",
      "\u001b[0;32m/tmp/ipykernel_371/434183085.py\u001b[0m in \u001b[0;36mprecision\u001b[0;34m(y, yhat, total_len)\u001b[0m\n\u001b[1;32m     49\u001b[0m         \u001b[0;32mif\u001b[0m \u001b[0my\u001b[0m\u001b[0;34m[\u001b[0m\u001b[0mi\u001b[0m\u001b[0;34m]\u001b[0m \u001b[0;34m!=\u001b[0m \u001b[0;36m1\u001b[0m \u001b[0;32mand\u001b[0m \u001b[0msign\u001b[0m\u001b[0;34m(\u001b[0m\u001b[0myhat\u001b[0m\u001b[0;34m[\u001b[0m\u001b[0mi\u001b[0m\u001b[0;34m]\u001b[0m\u001b[0;34m)\u001b[0m \u001b[0;34m==\u001b[0m \u001b[0;36m1\u001b[0m\u001b[0;34m:\u001b[0m\u001b[0;34m\u001b[0m\u001b[0;34m\u001b[0m\u001b[0m\n\u001b[1;32m     50\u001b[0m             \u001b[0msum_fp\u001b[0m \u001b[0;34m+=\u001b[0m \u001b[0;36m1\u001b[0m\u001b[0;34m\u001b[0m\u001b[0;34m\u001b[0m\u001b[0m\n\u001b[0;32m---> 51\u001b[0;31m     \u001b[0;32mreturn\u001b[0m \u001b[0msum_tp\u001b[0m\u001b[0;34m/\u001b[0m\u001b[0;34m(\u001b[0m\u001b[0msum_tp\u001b[0m \u001b[0;34m+\u001b[0m \u001b[0msum_fp\u001b[0m\u001b[0;34m)\u001b[0m\u001b[0;34m\u001b[0m\u001b[0;34m\u001b[0m\u001b[0m\n\u001b[0m",
      "\u001b[0;31mZeroDivisionError\u001b[0m: division by zero"
     ]
    }
   ],
   "source": [
    "from tabulate import tabulate\n",
    "data = [['Error Rate', error_rate(y,yhat,total_len), error_rate(y_n,yhat_xn,total_len)], \n",
    "        ['True Positive', true_positive(y,yhat,total_len), true_positive(y_n,yhat_xn,total_len)], \n",
    "        ['False Positive', false_positive(y,yhat,total_len), false_positive(y_n,yhat_xn,total_len)], \n",
    "        ['True Negative', true_negative(y,yhat,total_len), true_negative(y_n,yhat_xn,total_len)],['Precision', precision(y,yhat,total_len), precision(y_n,yhat_xn,total_len)],['Final Error Rate', error_rate_final]]\n",
    "print (tabulate(data, headers=[\"Calculated from Positives\", \"Calculated From Negatives\", ]))"
   ]
  },
  {
   "cell_type": "code",
   "execution_count": null,
   "id": "09b68d7b-59d4-49a2-b4a5-8b3963f4edc0",
   "metadata": {},
   "outputs": [],
   "source": []
  },
  {
   "cell_type": "code",
   "execution_count": null,
   "id": "131b5970-4048-4026-8212-e5d62002c8e3",
   "metadata": {},
   "outputs": [],
   "source": []
  }
 ],
 "metadata": {
  "kernelspec": {
   "display_name": "Python 3 (ipykernel)",
   "language": "python",
   "name": "python3"
  },
  "language_info": {
   "codemirror_mode": {
    "name": "ipython",
    "version": 3
   },
   "file_extension": ".py",
   "mimetype": "text/x-python",
   "name": "python",
   "nbconvert_exporter": "python",
   "pygments_lexer": "ipython3",
   "version": "3.9.6"
  }
 },
 "nbformat": 4,
 "nbformat_minor": 5
}
